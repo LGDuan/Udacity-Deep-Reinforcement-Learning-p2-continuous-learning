{
 "cells": [
  {
   "cell_type": "markdown",
   "metadata": {},
   "source": [
    "# Continuous Control\n",
    "\n",
    "---\n",
    "\n",
    "You are welcome to use this coding environment to train your agent for the project.  Follow the instructions below to get started!\n",
    "\n",
    "### 1. Start the Environment\n",
    "\n",
    "Run the next code cell to install a few packages.  This line will take a few minutes to run!"
   ]
  },
  {
   "cell_type": "code",
   "execution_count": 1,
   "metadata": {},
   "outputs": [
    {
     "name": "stdout",
     "output_type": "stream",
     "text": [
      "\u001b[31mtensorflow 1.7.1 has requirement numpy>=1.13.3, but you'll have numpy 1.12.1 which is incompatible.\u001b[0m\r\n",
      "\u001b[31mipython 6.5.0 has requirement prompt-toolkit<2.0.0,>=1.0.15, but you'll have prompt-toolkit 3.0.16 which is incompatible.\u001b[0m\r\n"
     ]
    }
   ],
   "source": [
    "!pip -q install ./python"
   ]
  },
  {
   "cell_type": "markdown",
   "metadata": {},
   "source": [
    "The environments corresponding to both versions of the environment are already saved in the Workspace and can be accessed at the file paths provided below.  \n",
    "\n",
    "Please select one of the two options below for loading the environment."
   ]
  },
  {
   "cell_type": "code",
   "execution_count": 2,
   "metadata": {},
   "outputs": [
    {
     "name": "stderr",
     "output_type": "stream",
     "text": [
      "INFO:unityagents:\n",
      "'Academy' started successfully!\n",
      "Unity Academy name: Academy\n",
      "        Number of Brains: 1\n",
      "        Number of External Brains : 1\n",
      "        Lesson number : 0\n",
      "        Reset Parameters :\n",
      "\t\tgoal_size -> 5.0\n",
      "\t\tgoal_speed -> 1.0\n",
      "Unity brain name: ReacherBrain\n",
      "        Number of Visual Observations (per agent): 0\n",
      "        Vector Observation space type: continuous\n",
      "        Vector Observation space size (per agent): 33\n",
      "        Number of stacked Vector Observation: 1\n",
      "        Vector Action space type: continuous\n",
      "        Vector Action space size (per agent): 4\n",
      "        Vector Action descriptions: , , , \n"
     ]
    }
   ],
   "source": [
    "from unityagents import UnityEnvironment\n",
    "import numpy as np\n",
    "\n",
    "# select this option to load version 1 (with a single agent) of the environment\n",
    "#env = UnityEnvironment(file_name='/data/Reacher_One_Linux_NoVis/Reacher_One_Linux_NoVis.x86_64')\n",
    "\n",
    "# select this option to load version 2 (with 20 agents) of the environment\n",
    "env = UnityEnvironment(file_name='/data/Reacher_Linux_NoVis/Reacher.x86_64')"
   ]
  },
  {
   "cell_type": "markdown",
   "metadata": {},
   "source": [
    "Environments contain **_brains_** which are responsible for deciding the actions of their associated agents. Here we check for the first brain available, and set it as the default brain we will be controlling from Python."
   ]
  },
  {
   "cell_type": "code",
   "execution_count": 3,
   "metadata": {},
   "outputs": [],
   "source": [
    "# get the default brain\n",
    "brain_name = env.brain_names[0]\n",
    "brain = env.brains[brain_name]"
   ]
  },
  {
   "cell_type": "markdown",
   "metadata": {},
   "source": [
    "### 2. Examine the State and Action Spaces\n",
    "\n",
    "Run the code cell below to print some information about the environment."
   ]
  },
  {
   "cell_type": "code",
   "execution_count": 4,
   "metadata": {},
   "outputs": [
    {
     "name": "stdout",
     "output_type": "stream",
     "text": [
      "Number of agents: 20\n",
      "Size of each action: 4\n",
      "There are 20 agents. Each observes a state with length: 33\n",
      "The state for the first agent looks like: [  0.00000000e+00  -4.00000000e+00   0.00000000e+00   1.00000000e+00\n",
      "  -0.00000000e+00  -0.00000000e+00  -4.37113883e-08   0.00000000e+00\n",
      "   0.00000000e+00   0.00000000e+00   0.00000000e+00   0.00000000e+00\n",
      "   0.00000000e+00   0.00000000e+00  -1.00000000e+01   0.00000000e+00\n",
      "   1.00000000e+00  -0.00000000e+00  -0.00000000e+00  -4.37113883e-08\n",
      "   0.00000000e+00   0.00000000e+00   0.00000000e+00   0.00000000e+00\n",
      "   0.00000000e+00   0.00000000e+00   5.75471878e+00  -1.00000000e+00\n",
      "   5.55726624e+00   0.00000000e+00   1.00000000e+00   0.00000000e+00\n",
      "  -1.68164849e-01]\n"
     ]
    }
   ],
   "source": [
    "# reset the environment\n",
    "env_info = env.reset(train_mode=True)[brain_name]\n",
    "\n",
    "# number of agents\n",
    "num_agents = len(env_info.agents)\n",
    "print('Number of agents:', num_agents)\n",
    "\n",
    "# size of each action\n",
    "action_size = brain.vector_action_space_size\n",
    "print('Size of each action:', action_size)\n",
    "\n",
    "# examine the state space \n",
    "states = env_info.vector_observations\n",
    "state_size = states.shape[1]\n",
    "print('There are {} agents. Each observes a state with length: {}'.format(states.shape[0], state_size))\n",
    "print('The state for the first agent looks like:', states[0])"
   ]
  },
  {
   "cell_type": "markdown",
   "metadata": {},
   "source": [
    "### 3. Take Random Actions in the Environment\n",
    "\n",
    "In the next code cell, you will learn how to use the Python API to control the agent and receive feedback from the environment.\n",
    "\n",
    "Note that **in this coding environment, you will not be able to watch the agents while they are training**, and you should set `train_mode=True` to restart the environment."
   ]
  },
  {
   "cell_type": "code",
   "execution_count": 5,
   "metadata": {},
   "outputs": [
    {
     "name": "stdout",
     "output_type": "stream",
     "text": [
      "Total score (averaged over agents) this episode: 0.09949999777600169\n"
     ]
    }
   ],
   "source": [
    "env_info = env.reset(train_mode=True)[brain_name]      # reset the environment    \n",
    "states = env_info.vector_observations                  # get the current state (for each agent)\n",
    "scores = np.zeros(num_agents)                          # initialize the score (for each agent)\n",
    "while True:\n",
    "    actions = np.random.randn(num_agents, action_size) # select an action (for each agent)\n",
    "    actions = np.clip(actions, -1, 1)                  # all actions between -1 and 1\n",
    "    env_info = env.step(actions)[brain_name]           # send all actions to tne environment\n",
    "    next_states = env_info.vector_observations         # get next state (for each agent)\n",
    "    rewards = env_info.rewards                         # get reward (for each agent)\n",
    "    dones = env_info.local_done                        # see if episode finished\n",
    "    scores += env_info.rewards                         # update the score (for each agent)\n",
    "    states = next_states                               # roll over states to next time step\n",
    "    if np.any(dones):                                  # exit loop if episode finished\n",
    "        break\n",
    "print('Total score (averaged over agents) this episode: {}'.format(np.mean(scores)))"
   ]
  },
  {
   "cell_type": "markdown",
   "metadata": {},
   "source": [
    "When finished, you can close the environment."
   ]
  },
  {
   "cell_type": "code",
   "execution_count": 6,
   "metadata": {},
   "outputs": [],
   "source": [
    "#env.close()"
   ]
  },
  {
   "cell_type": "markdown",
   "metadata": {},
   "source": [
    "### 4. It's Your Turn!\n",
    "\n",
    "Now it's your turn to train your own agent to solve the environment!  A few **important notes**:\n",
    "- When training the environment, set `train_mode=True`, so that the line for resetting the environment looks like the following:\n",
    "```python\n",
    "env_info = env.reset(train_mode=True)[brain_name]\n",
    "```\n",
    "- To structure your work, you're welcome to work directly in this Jupyter notebook, or you might like to start over with a new file!  You can see the list of files in the workspace by clicking on **_Jupyter_** in the top left corner of the notebook.\n",
    "- In this coding environment, you will not be able to watch the agents while they are training.  However, **_after training the agents_**, you can download the saved model weights to watch the agents on your own machine! "
   ]
  },
  {
   "cell_type": "code",
   "execution_count": 7,
   "metadata": {},
   "outputs": [
    {
     "name": "stdout",
     "output_type": "stream",
     "text": [
      "<class 'int'>\n"
     ]
    }
   ],
   "source": [
    "from configparser import ConfigParser \n",
    "configur = ConfigParser() \n",
    "configur.read('config.ini')\n",
    "\n",
    "Gamma = float(configur.get('agent','gamma'))\n",
    "\n",
    "num_episodes = int(configur.get('train','number_of_episodes'))\n",
    "random_seed = int(configur.get('train','random_seed'))\n",
    "max_t = int(configur.get('train','max_t'))\n",
    "\n",
    "state_size = int(configur.get('env','state_size'))\n",
    "action_size = int(configur.get('env','action_size'))\n",
    "num_agents = int(configur.get('env','num_agents'))\n",
    "\n",
    "print (type(state_size))"
   ]
  },
  {
   "cell_type": "code",
   "execution_count": 8,
   "metadata": {},
   "outputs": [
    {
     "data": {
      "text/plain": [
       "Actor(\n",
       "  (fc1): Linear(in_features=33, out_features=330, bias=True)\n",
       "  (fc2): Linear(in_features=330, out_features=300, bias=True)\n",
       "  (fc3): Linear(in_features=300, out_features=4, bias=True)\n",
       ")"
      ]
     },
     "execution_count": 8,
     "metadata": {},
     "output_type": "execute_result"
    }
   ],
   "source": [
    "from DDPG_agent import AgentDDPG \n",
    "from collections import deque\n",
    "import torch\n",
    "\n",
    "\n",
    "agent=AgentDDPG(state_size,action_size,num_agents,Gamma,random_seed=10)\n",
    "agent.actor_local"
   ]
  },
  {
   "cell_type": "code",
   "execution_count": 9,
   "metadata": {},
   "outputs": [
    {
     "data": {
      "text/plain": [
       "Critic(\n",
       "  (fc1): Linear(in_features=33, out_features=330, bias=True)\n",
       "  (fc2): Linear(in_features=334, out_features=300, bias=True)\n",
       "  (fc3): Linear(in_features=300, out_features=1, bias=True)\n",
       ")"
      ]
     },
     "execution_count": 9,
     "metadata": {},
     "output_type": "execute_result"
    }
   ],
   "source": [
    "agent.critic_local\n"
   ]
  },
  {
   "cell_type": "code",
   "execution_count": 10,
   "metadata": {},
   "outputs": [],
   "source": [
    "def trainAgent(agent,env,ne,brain_name,max_t=1000):\n",
    "    scores=[]\n",
    "    ts=0\n",
    "    window=deque(maxlen=100)\n",
    "    for i_ep in range(1,ne+1):\n",
    "        env_info = env.reset(train_mode=True)[brain_name]  \n",
    "        states = env_info.vector_observations \n",
    "        agent.reset()\n",
    "        score = np.zeros(num_agents) \n",
    "        for t in range(max_t):\n",
    "            \n",
    "            actions=agent.get_action(states)          \n",
    "            env_info = env.step(actions)[brain_name]           # send all actions to tne environment\n",
    "            next_states = env_info.vector_observations        # get next state (for each agent)\n",
    "            \n",
    "            rewards = env_info.rewards                        # get reward (for each agent)\n",
    "            dones = env_info.local_done                       # see if episode finished\n",
    "            score += rewards                                 # update the score (for each agent)\n",
    "            \n",
    "            agent.step(states,actions,rewards,next_states,dones,ts)\n",
    "            \n",
    "            states = next_states                               # roll over states to next time step\n",
    "            ts+=1\n",
    "            if np.any(dones):                                  # exit loop if episode finished\n",
    "                break\n",
    "                \n",
    "        scores.append(np.mean(score))\n",
    "        window.append(np.mean(score))\n",
    "        \n",
    "        print(\"Episode {}/{} score:{}\".format(i_ep,ne,np.mean(window)))\n",
    "        \n",
    "        if np.mean(window) >= 30:\n",
    "            print (\"solved in {} episodes\".format(i_ep))\n",
    "            print (\"Saving Model...\")\n",
    "            torch.save(agent.actor_local.state_dict(), 'checkpoint_actor.pth')\n",
    "            torch.save(agent.critic_local.state_dict(), 'checkpoint_critic.pth')\n",
    "            break\n",
    "        \n",
    "    return scores"
   ]
  },
  {
   "cell_type": "code",
   "execution_count": 11,
   "metadata": {
    "scrolled": false
   },
   "outputs": [
    {
     "name": "stdout",
     "output_type": "stream",
     "text": [
      "Episode 1/400 score:0.913999979570508\n",
      "Episode 2/400 score:1.122999974898994\n",
      "Episode 3/400 score:1.5066666329900424\n",
      "Episode 4/400 score:1.79699995983392\n",
      "Episode 5/400 score:2.0710999537073076\n",
      "Episode 6/400 score:2.3957499464508145\n",
      "Episode 7/400 score:2.7778570807671974\n",
      "Episode 8/400 score:3.1270624301047065\n",
      "Episode 9/400 score:3.5572776982664234\n",
      "Episode 10/400 score:3.9004499128181487\n",
      "Episode 11/400 score:4.4319089918482035\n",
      "Episode 12/400 score:4.944208222821666\n",
      "Episode 13/400 score:5.44238449373784\n",
      "Episode 14/400 score:5.794035584778924\n",
      "Episode 15/400 score:6.217966527684281\n",
      "Episode 16/400 score:6.560999853350221\n",
      "Episode 17/400 score:6.883999846130609\n",
      "Episode 18/400 score:7.306166503361116\n",
      "Episode 19/400 score:7.564631409864677\n",
      "Episode 20/400 score:7.895324823525733\n",
      "Episode 21/400 score:8.335952194629325\n",
      "Episode 22/400 score:8.702613441845061\n",
      "Episode 23/400 score:9.082695449159845\n",
      "Episode 24/400 score:9.483708121355933\n",
      "Episode 25/400 score:9.839499780070035\n",
      "Episode 26/400 score:10.229595925196861\n",
      "Episode 27/400 score:10.610240503583377\n",
      "Episode 28/400 score:11.019178325130737\n",
      "Episode 29/400 score:11.253206645022948\n",
      "Episode 30/400 score:11.61189974045381\n",
      "Episode 31/400 score:12.034290053593294\n",
      "Episode 32/400 score:12.445343471824891\n",
      "Episode 33/400 score:12.72580274585917\n",
      "Episode 34/400 score:13.091808530904684\n",
      "Episode 35/400 score:13.326585416413314\n",
      "Episode 36/400 score:13.613874695706183\n",
      "Episode 37/400 score:13.93398617503762\n",
      "Episode 38/400 score:14.283118101800062\n",
      "Episode 39/400 score:14.615281724605044\n",
      "Episode 40/400 score:14.982337165118661\n",
      "Episode 41/400 score:15.374755753908397\n",
      "Episode 42/400 score:15.82236869396154\n",
      "Episode 43/400 score:16.252464753008166\n",
      "Episode 44/400 score:16.67137462736573\n",
      "Episode 45/400 score:17.120677395100806\n",
      "Episode 46/400 score:17.543640912216883\n",
      "Episode 47/400 score:17.949063428594393\n",
      "Episode 48/400 score:18.355530839721904\n",
      "Episode 49/400 score:18.756744478713262\n",
      "Episode 50/400 score:19.128439572446045\n",
      "Episode 51/400 score:19.487793682060914\n",
      "Episode 52/400 score:19.8453168641149\n",
      "Episode 53/400 score:20.179603322535613\n",
      "Episode 54/400 score:20.49447176413507\n",
      "Episode 55/400 score:20.771581353900782\n",
      "Episode 56/400 score:21.05445488653911\n",
      "Episode 57/400 score:21.33931531250281\n",
      "Episode 58/400 score:21.611646068666197\n",
      "Episode 59/400 score:21.856041884360742\n",
      "Episode 60/400 score:22.12013283890983\n",
      "Episode 61/400 score:22.370163434414106\n",
      "Episode 62/400 score:22.61901562345785\n",
      "Episode 63/400 score:22.842348695782917\n",
      "Episode 64/400 score:23.06671823441866\n",
      "Episode 65/400 score:23.274545633619507\n",
      "Episode 66/400 score:23.4966206869308\n",
      "Episode 67/400 score:23.70257409707184\n",
      "Episode 68/400 score:23.90003623049843\n",
      "Episode 69/400 score:24.0636081577886\n",
      "Episode 70/400 score:24.25283517219259\n",
      "Episode 71/400 score:24.4439642423672\n",
      "Episode 72/400 score:24.636791115991464\n",
      "Episode 73/400 score:24.82082136301962\n",
      "Episode 74/400 score:25.002789981684625\n",
      "Episode 75/400 score:25.174319437310103\n",
      "Episode 76/400 score:25.340473117806805\n",
      "Episode 77/400 score:25.511960468724276\n",
      "Episode 78/400 score:25.670621221088687\n",
      "Episode 79/400 score:25.82460701771175\n",
      "Episode 80/400 score:25.9624369196943\n",
      "Episode 81/400 score:26.08913521933151\n",
      "Episode 82/400 score:26.216462828650524\n",
      "Episode 83/400 score:26.351168085704277\n",
      "Episode 84/400 score:26.485797027043912\n",
      "Episode 85/400 score:26.60424646417227\n",
      "Episode 86/400 score:26.724737774748576\n",
      "Episode 87/400 score:26.835781009368944\n",
      "Episode 88/400 score:26.946448261336297\n",
      "Episode 89/400 score:27.04684209208517\n",
      "Episode 90/400 score:27.164888281706308\n",
      "Episode 91/400 score:27.273026862927804\n",
      "Episode 92/400 score:27.387075474807666\n",
      "Episode 93/400 score:27.49152089089295\n",
      "Episode 94/400 score:27.59578661722864\n",
      "Episode 95/400 score:27.69276780207102\n",
      "Episode 96/400 score:27.781884795693134\n",
      "Episode 97/400 score:27.883576696341105\n",
      "Episode 98/400 score:27.974805497163334\n",
      "Episode 99/400 score:28.03854987834006\n",
      "Episode 100/400 score:28.138609371053054\n",
      "Episode 101/400 score:28.510609362738215\n",
      "Episode 102/400 score:28.86675935477764\n",
      "Episode 103/400 score:29.22519934676588\n",
      "Episode 104/400 score:29.579999338835478\n",
      "Episode 105/400 score:29.92198933119141\n",
      "Episode 106/400 score:30.24965432386752\n",
      "solved in 106 episodes\n",
      "Saving Model...\n"
     ]
    }
   ],
   "source": [
    "#Train\n",
    "scores=trainAgent(agent,env,num_episodes,brain_name,max_t)"
   ]
  },
  {
   "cell_type": "code",
   "execution_count": 12,
   "metadata": {},
   "outputs": [
    {
     "name": "stdout",
     "output_type": "stream",
     "text": [
      "106\n"
     ]
    }
   ],
   "source": [
    "len(scores)\n",
    "scores_copy=scores\n",
    "print (len(scores))"
   ]
  },
  {
   "cell_type": "code",
   "execution_count": 13,
   "metadata": {},
   "outputs": [
    {
     "data": {
      "image/png": "[encoded data removed]",
      "text/plain": [
       "<matplotlib.figure.Figure at 0x7fc7e06e26d8>"
      ]
     },
     "metadata": {
      "needs_background": "light"
     },
     "output_type": "display_data"
    }
   ],
   "source": [
    "#graph of score over episodes\n",
    "import pandas as pd\n",
    "import matplotlib.pyplot as plt\n",
    "%matplotlib inline\n",
    "\n",
    "target_score=30\n",
    "rolling_mean = pd.Series(scores_copy).rolling(window=10).mean()\n",
    "\n",
    "plt.plot(range(len(scores_copy)),scores_copy)\n",
    "plt.plot(rolling_mean)\n",
    "plt.plot(range(len(scores_copy)),(len(scores_copy)*[target_score]), linestyle='--')\n",
    "plt.ylabel('Score')\n",
    "plt.xlabel('Episode #')\n",
    "plt.grid(\"on\")\n",
    "plt.show()"
   ]
  },
  {
   "cell_type": "code",
   "execution_count": 15,
   "metadata": {},
   "outputs": [
    {
     "name": "stdout",
     "output_type": "stream",
     "text": [
      "Total score (averaged over agents) this episode: 34.41999923065305\n"
     ]
    }
   ],
   "source": [
    "agent.actor_local.load_state_dict(torch.load('checkpoint_actor.pth'))\n",
    "agent.critic_local.load_state_dict(torch.load('checkpoint_critic.pth'))\n",
    "\n",
    "env_info = env.reset(train_mode=True)[brain_name]      # reset the environment    \n",
    "states = env_info.vector_observations                  # get the current state (for each agent)\n",
    "scores = np.zeros(num_agents)                          # initialize the score (for each agent)\n",
    "while True:\n",
    "    actions=agent.get_action(states)\n",
    "    env_info = env.step(actions)[brain_name]           # send all actions to tne environment\n",
    "    next_states = env_info.vector_observations         # get next state (for each agent)\n",
    "    rewards = env_info.rewards                         # get reward (for each agent)\n",
    "    dones = env_info.local_done                        # see if episode finished\n",
    "    scores += env_info.rewards                         # update the score (for each agent)\n",
    "    states = next_states                               # roll over states to next time step\n",
    "    if np.any(dones):                                  # exit loop if episode finished\n",
    "        break\n",
    "print('Total score (averaged over agents) this episode: {}'.format(np.mean(scores)))"
   ]
  },
  {
   "cell_type": "code",
   "execution_count": 16,
   "metadata": {},
   "outputs": [],
   "source": [
    "env.close()"
   ]
  },
  {
   "cell_type": "code",
   "execution_count": null,
   "metadata": {},
   "outputs": [],
   "source": []
  }
 ],
 "metadata": {
  "kernelspec": {
   "display_name": "Python 3",
   "language": "python",
   "name": "python3"
  },
  "language_info": {
   "codemirror_mode": {
    "name": "ipython",
    "version": 3
   },
   "file_extension": ".py",
   "mimetype": "text/x-python",
   "name": "python",
   "nbconvert_exporter": "python",
   "pygments_lexer": "ipython3",
   "version": "3.6.3"
  }
 },
 "nbformat": 4,
 "nbformat_minor": 2
}
