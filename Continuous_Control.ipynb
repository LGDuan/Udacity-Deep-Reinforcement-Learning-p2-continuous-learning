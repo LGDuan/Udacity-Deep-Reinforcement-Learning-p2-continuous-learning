{
 "cells": [
  {
   "cell_type": "markdown",
   "metadata": {},
   "source": [
    "# Continuous Control\n",
    "\n",
    "---\n",
    "\n",
    "You are welcome to use this coding environment to train your agent for the project.  Follow the instructions below to get started!\n",
    "\n",
    "### 1. Start the Environment\n",
    "\n",
    "Run the next code cell to install a few packages.  This line will take a few minutes to run!"
   ]
  },
  {
   "cell_type": "code",
   "execution_count": 1,
   "metadata": {},
   "outputs": [
    {
     "name": "stdout",
     "output_type": "stream",
     "text": [
      "\u001b[31mtensorflow 1.7.1 has requirement numpy>=1.13.3, but you'll have numpy 1.12.1 which is incompatible.\u001b[0m\r\n",
      "\u001b[31mipython 6.5.0 has requirement prompt-toolkit<2.0.0,>=1.0.15, but you'll have prompt-toolkit 3.0.16 which is incompatible.\u001b[0m\r\n"
     ]
    }
   ],
   "source": [
    "!pip -q install ./python"
   ]
  },
  {
   "cell_type": "markdown",
   "metadata": {},
   "source": [
    "The environments corresponding to both versions of the environment are already saved in the Workspace and can be accessed at the file paths provided below.  \n",
    "\n",
    "Please select one of the two options below for loading the environment."
   ]
  },
  {
   "cell_type": "code",
   "execution_count": 2,
   "metadata": {},
   "outputs": [
    {
     "name": "stderr",
     "output_type": "stream",
     "text": [
      "INFO:unityagents:\n",
      "'Academy' started successfully!\n",
      "Unity Academy name: Academy\n",
      "        Number of Brains: 1\n",
      "        Number of External Brains : 1\n",
      "        Lesson number : 0\n",
      "        Reset Parameters :\n",
      "\t\tgoal_speed -> 1.0\n",
      "\t\tgoal_size -> 5.0\n",
      "Unity brain name: ReacherBrain\n",
      "        Number of Visual Observations (per agent): 0\n",
      "        Vector Observation space type: continuous\n",
      "        Vector Observation space size (per agent): 33\n",
      "        Number of stacked Vector Observation: 1\n",
      "        Vector Action space type: continuous\n",
      "        Vector Action space size (per agent): 4\n",
      "        Vector Action descriptions: , , , \n"
     ]
    }
   ],
   "source": [
    "from unityagents import UnityEnvironment\n",
    "import numpy as np\n",
    "\n",
    "# select this option to load version 1 (with a single agent) of the environment\n",
    "#env = UnityEnvironment(file_name='/data/Reacher_One_Linux_NoVis/Reacher_One_Linux_NoVis.x86_64')\n",
    "\n",
    "# select this option to load version 2 (with 20 agents) of the environment\n",
    "env = UnityEnvironment(file_name='/data/Reacher_Linux_NoVis/Reacher.x86_64')"
   ]
  },
  {
   "cell_type": "markdown",
   "metadata": {},
   "source": [
    "Environments contain **_brains_** which are responsible for deciding the actions of their associated agents. Here we check for the first brain available, and set it as the default brain we will be controlling from Python."
   ]
  },
  {
   "cell_type": "code",
   "execution_count": 3,
   "metadata": {},
   "outputs": [],
   "source": [
    "# get the default brain\n",
    "brain_name = env.brain_names[0]\n",
    "brain = env.brains[brain_name]"
   ]
  },
  {
   "cell_type": "markdown",
   "metadata": {},
   "source": [
    "### 2. Examine the State and Action Spaces\n",
    "\n",
    "Run the code cell below to print some information about the environment."
   ]
  },
  {
   "cell_type": "code",
   "execution_count": 4,
   "metadata": {},
   "outputs": [
    {
     "name": "stdout",
     "output_type": "stream",
     "text": [
      "Number of agents: 20\n",
      "Size of each action: 4\n",
      "There are 20 agents. Each observes a state with length: 33\n",
      "The state for the first agent looks like: [  0.00000000e+00  -4.00000000e+00   0.00000000e+00   1.00000000e+00\n",
      "  -0.00000000e+00  -0.00000000e+00  -4.37113883e-08   0.00000000e+00\n",
      "   0.00000000e+00   0.00000000e+00   0.00000000e+00   0.00000000e+00\n",
      "   0.00000000e+00   0.00000000e+00  -1.00000000e+01   0.00000000e+00\n",
      "   1.00000000e+00  -0.00000000e+00  -0.00000000e+00  -4.37113883e-08\n",
      "   0.00000000e+00   0.00000000e+00   0.00000000e+00   0.00000000e+00\n",
      "   0.00000000e+00   0.00000000e+00   5.75471878e+00  -1.00000000e+00\n",
      "   5.55726624e+00   0.00000000e+00   1.00000000e+00   0.00000000e+00\n",
      "  -1.68164849e-01]\n"
     ]
    }
   ],
   "source": [
    "# reset the environment\n",
    "env_info = env.reset(train_mode=True)[brain_name]\n",
    "\n",
    "# number of agents\n",
    "num_agents = len(env_info.agents)\n",
    "print('Number of agents:', num_agents)\n",
    "\n",
    "# size of each action\n",
    "action_size = brain.vector_action_space_size\n",
    "print('Size of each action:', action_size)\n",
    "\n",
    "# examine the state space \n",
    "states = env_info.vector_observations\n",
    "state_size = states.shape[1]\n",
    "print('There are {} agents. Each observes a state with length: {}'.format(states.shape[0], state_size))\n",
    "print('The state for the first agent looks like:', states[0])"
   ]
  },
  {
   "cell_type": "markdown",
   "metadata": {},
   "source": [
    "### 3. Take Random Actions in the Environment\n",
    "\n",
    "In the next code cell, you will learn how to use the Python API to control the agent and receive feedback from the environment.\n",
    "\n",
    "Note that **in this coding environment, you will not be able to watch the agents while they are training**, and you should set `train_mode=True` to restart the environment."
   ]
  },
  {
   "cell_type": "code",
   "execution_count": 5,
   "metadata": {},
   "outputs": [
    {
     "name": "stdout",
     "output_type": "stream",
     "text": [
      "Total score (averaged over agents) this episode: 0.23599999472498895\n"
     ]
    }
   ],
   "source": [
    "env_info = env.reset(train_mode=True)[brain_name]      # reset the environment    \n",
    "states = env_info.vector_observations                  # get the current state (for each agent)\n",
    "scores = np.zeros(num_agents)                          # initialize the score (for each agent)\n",
    "while True:\n",
    "    actions = np.random.randn(num_agents, action_size) # select an action (for each agent)\n",
    "    actions = np.clip(actions, -1, 1)                  # all actions between -1 and 1\n",
    "    env_info = env.step(actions)[brain_name]           # send all actions to tne environment\n",
    "    next_states = env_info.vector_observations         # get next state (for each agent)\n",
    "    rewards = env_info.rewards                         # get reward (for each agent)\n",
    "    dones = env_info.local_done                        # see if episode finished\n",
    "    scores += env_info.rewards                         # update the score (for each agent)\n",
    "    states = next_states                               # roll over states to next time step\n",
    "    if np.any(dones):                                  # exit loop if episode finished\n",
    "        break\n",
    "print('Total score (averaged over agents) this episode: {}'.format(np.mean(scores)))"
   ]
  },
  {
   "cell_type": "markdown",
   "metadata": {},
   "source": [
    "When finished, you can close the environment."
   ]
  },
  {
   "cell_type": "code",
   "execution_count": 6,
   "metadata": {},
   "outputs": [],
   "source": [
    "#env.close()"
   ]
  },
  {
   "cell_type": "markdown",
   "metadata": {},
   "source": [
    "### 4. It's Your Turn!\n",
    "\n",
    "Now it's your turn to train your own agent to solve the environment!  A few **important notes**:\n",
    "- When training the environment, set `train_mode=True`, so that the line for resetting the environment looks like the following:\n",
    "```python\n",
    "env_info = env.reset(train_mode=True)[brain_name]\n",
    "```\n",
    "- To structure your work, you're welcome to work directly in this Jupyter notebook, or you might like to start over with a new file!  You can see the list of files in the workspace by clicking on **_Jupyter_** in the top left corner of the notebook.\n",
    "- In this coding environment, you will not be able to watch the agents while they are training.  However, **_after training the agents_**, you can download the saved model weights to watch the agents on your own machine! "
   ]
  },
  {
   "cell_type": "code",
   "execution_count": 7,
   "metadata": {},
   "outputs": [
    {
     "name": "stdout",
     "output_type": "stream",
     "text": [
      "<class 'int'>\n"
     ]
    }
   ],
   "source": [
    "from configparser import ConfigParser \n",
    "configur = ConfigParser() \n",
    "configur.read('config.ini')\n",
    "\n",
    "Gamma = float(configur.get('agent','gamma'))\n",
    "\n",
    "num_episodes = int(configur.get('train','number_of_episodes'))\n",
    "random_seed = int(configur.get('train','random_seed'))\n",
    "max_t = int(configur.get('train','max_t'))\n",
    "\n",
    "state_size = int(configur.get('env','state_size'))\n",
    "action_size = int(configur.get('env','action_size'))\n",
    "num_agents = int(configur.get('env','num_agents'))\n",
    "\n",
    "print (type(state_size))"
   ]
  },
  {
   "cell_type": "code",
   "execution_count": 8,
   "metadata": {},
   "outputs": [
    {
     "data": {
      "text/plain": [
       "Actor(\n",
       "  (fc1): Linear(in_features=33, out_features=330, bias=True)\n",
       "  (fc2): Linear(in_features=330, out_features=300, bias=True)\n",
       "  (fc3): Linear(in_features=300, out_features=4, bias=True)\n",
       ")"
      ]
     },
     "execution_count": 8,
     "metadata": {},
     "output_type": "execute_result"
    }
   ],
   "source": [
    "from DDPG_agent import AgentDDPG \n",
    "from collections import deque\n",
    "import torch\n",
    "\n",
    "\n",
    "agent=AgentDDPG(state_size,action_size,num_agents,Gamma,random_seed=10)\n",
    "agent.actor_local"
   ]
  },
  {
   "cell_type": "code",
   "execution_count": 9,
   "metadata": {},
   "outputs": [
    {
     "data": {
      "text/plain": [
       "Critic(\n",
       "  (fc1): Linear(in_features=33, out_features=330, bias=True)\n",
       "  (fc2): Linear(in_features=334, out_features=300, bias=True)\n",
       "  (fc3): Linear(in_features=300, out_features=1, bias=True)\n",
       ")"
      ]
     },
     "execution_count": 9,
     "metadata": {},
     "output_type": "execute_result"
    }
   ],
   "source": [
    "agent.critic_local\n"
   ]
  },
  {
   "cell_type": "code",
   "execution_count": 10,
   "metadata": {},
   "outputs": [],
   "source": [
    "def trainAgent(agent,env,ne,brain_name,max_t=1000):\n",
    "    scores=[]\n",
    "    ts=0\n",
    "    window=deque(maxlen=100)\n",
    "    for i_ep in range(1,ne+1):\n",
    "        env_info = env.reset(train_mode=True)[brain_name]  \n",
    "        states = env_info.vector_observations \n",
    "        agent.reset()\n",
    "        score = np.zeros(num_agents) \n",
    "        for t in range(max_t):\n",
    "            \n",
    "            actions=agent.get_action(states)          \n",
    "            env_info = env.step(actions)[brain_name]           # send all actions to tne environment\n",
    "            next_states = env_info.vector_observations        # get next state (for each agent)\n",
    "            \n",
    "            rewards = env_info.rewards                        # get reward (for each agent)\n",
    "            dones = env_info.local_done                       # see if episode finished\n",
    "            score += rewards                                 # update the score (for each agent)\n",
    "            \n",
    "            agent.step(states,actions,rewards,next_states,dones,ts)\n",
    "            \n",
    "            states = next_states                               # roll over states to next time step\n",
    "            ts+=1\n",
    "            if np.any(dones):                                  # exit loop if episode finished\n",
    "                break\n",
    "                \n",
    "        scores.append(np.mean(score))\n",
    "        window.append(np.mean(score))\n",
    "        \n",
    "        print(\"Episode {}/{} Avg scores:{}\".format(i_ep,ne,np.mean(window)))\n",
    "        \n",
    "        if np.mean(window) >= 30:\n",
    "            print (\"solved in {} episodes\".format(i_ep))\n",
    "            print (\"Saving Model...\")\n",
    "            torch.save(agent.actor_local.state_dict(), 'checkpoint_actor.pth')\n",
    "            torch.save(agent.critic_local.state_dict(), 'checkpoint_critic.pth')\n",
    "            break\n",
    "        \n",
    "    return scores"
   ]
  },
  {
   "cell_type": "code",
   "execution_count": 11,
   "metadata": {
    "scrolled": false
   },
   "outputs": [
    {
     "name": "stdout",
     "output_type": "stream",
     "text": [
      "Episode 1/400 Avg scores:0.7494999832473696\n",
      "Episode 2/400 Avg scores:1.1434999744407832\n",
      "Episode 3/400 Avg scores:1.4644999672658738\n",
      "Episode 4/400 Avg scores:1.778374960250221\n",
      "Episode 5/400 Avg scores:2.0238999547623093\n",
      "Episode 6/400 Avg scores:2.264333282721539\n",
      "Episode 7/400 Avg scores:2.658142797728734\n",
      "Episode 8/400 Avg scores:3.125562430138234\n",
      "Episode 9/400 Avg scores:3.501222143963807\n",
      "Episode 10/400 Avg scores:3.762699915897101\n",
      "Episode 11/400 Avg scores:4.08481809051538\n",
      "Episode 12/400 Avg scores:4.431958234271345\n",
      "Episode 13/400 Avg scores:4.682653741488377\n",
      "Episode 14/400 Avg scores:4.988714174207833\n",
      "Episode 15/400 Avg scores:5.239499882888049\n",
      "Episode 16/400 Avg scores:5.511437376809772\n",
      "Episode 17/400 Avg scores:5.750441047938212\n",
      "Episode 18/400 Avg scores:6.037388753942731\n",
      "Episode 19/400 Avg scores:6.231368281770693\n",
      "Episode 20/400 Avg scores:6.367099857684225\n",
      "Episode 21/400 Avg scores:6.464285569797669\n",
      "Episode 22/400 Avg scores:6.54406803554686\n",
      "Episode 23/400 Avg scores:6.707369415295999\n",
      "Episode 24/400 Avg scores:6.840229013775631\n",
      "Episode 25/400 Avg scores:7.004399843439461\n",
      "Episode 26/400 Avg scores:7.109807533391107\n",
      "Episode 27/400 Avg scores:7.2549442822838\n",
      "Episode 28/400 Avg scores:7.479231975683278\n",
      "Episode 29/400 Avg scores:7.647413622170431\n",
      "Episode 30/400 Avg scores:7.791699825841934\n",
      "Episode 31/400 Avg scores:7.971322402472218\n",
      "Episode 32/400 Avg scores:8.186671692013624\n",
      "Episode 33/400 Avg scores:8.283287693641967\n",
      "Episode 34/400 Avg scores:8.460499810893088\n",
      "Episode 35/400 Avg scores:8.619999807327986\n",
      "Episode 36/400 Avg scores:8.849319246646742\n",
      "Episode 37/400 Avg scores:9.067270067600987\n",
      "Episode 38/400 Avg scores:9.311973476071694\n",
      "Episode 39/400 Avg scores:9.61846132347217\n",
      "Episode 40/400 Avg scores:9.911562278459314\n",
      "Episode 41/400 Avg scores:10.281426599460495\n",
      "Episode 42/400 Avg scores:10.642214047842259\n",
      "Episode 43/400 Avg scores:11.008592777194584\n",
      "Episode 44/400 Avg scores:11.414511108502152\n",
      "Episode 45/400 Avg scores:11.82965529114215\n",
      "Episode 46/400 Avg scores:12.241608422030897\n",
      "Episode 47/400 Avg scores:12.640638015332057\n",
      "Episode 48/400 Avg scores:13.07612470772583\n",
      "Episode 49/400 Avg scores:13.52778541191614\n",
      "Episode 50/400 Avg scores:13.966789687817915\n",
      "Episode 51/400 Avg scores:14.399411442853948\n",
      "Episode 52/400 Avg scores:14.827441976273146\n",
      "Episode 53/400 Avg scores:15.227386452094212\n",
      "Episode 54/400 Avg scores:15.623897798926809\n",
      "Episode 55/400 Avg scores:16.00901782398874\n",
      "Episode 56/400 Avg scores:16.363481777104816\n",
      "Episode 57/400 Avg scores:16.685543486698155\n",
      "Episode 58/400 Avg scores:17.026094447023333\n",
      "Episode 59/400 Avg scores:17.323313172115803\n",
      "Episode 60/400 Avg scores:17.637532939103743\n",
      "Episode 61/400 Avg scores:17.943261894018804\n",
      "Episode 62/400 Avg scores:18.241039914861624\n",
      "Episode 63/400 Avg scores:18.543007522039414\n",
      "Episode 64/400 Avg scores:18.83299957904965\n",
      "Episode 65/400 Avg scores:19.105438034498636\n",
      "Episode 66/400 Avg scores:19.374219263922143\n",
      "Episode 67/400 Avg scores:19.63791000881969\n",
      "Episode 68/400 Avg scores:19.89408043768558\n",
      "Episode 69/400 Avg scores:20.112861869283073\n",
      "Episode 70/400 Avg scores:20.348549545174464\n",
      "Episode 71/400 Avg scores:20.58257700473228\n",
      "Episode 72/400 Avg scores:20.809492590427137\n",
      "Episode 73/400 Avg scores:21.02465021499394\n",
      "Episode 74/400 Avg scores:21.230236011953718\n",
      "Episode 75/400 Avg scores:21.440386187436676\n",
      "Episode 76/400 Avg scores:21.648558726643305\n",
      "Episode 77/400 Avg scores:21.851493018074564\n",
      "Episode 78/400 Avg scores:22.031807199858413\n",
      "Episode 79/400 Avg scores:22.18716406104025\n",
      "Episode 80/400 Avg scores:22.352974500372074\n",
      "Episode 81/400 Avg scores:22.5260118421834\n",
      "Episode 82/400 Avg scores:22.70078607796373\n",
      "Episode 83/400 Avg scores:22.874445271848824\n",
      "Episode 84/400 Avg scores:23.047231627711362\n",
      "Episode 85/400 Avg scores:23.213358304670408\n",
      "Episode 86/400 Avg scores:23.367889012570686\n",
      "Episode 87/400 Avg scores:23.525740853469046\n",
      "Episode 88/400 Avg scores:23.663647198348986\n",
      "Episode 89/400 Avg scores:23.810319692516973\n",
      "Episode 90/400 Avg scores:23.956510575641364\n",
      "Episode 91/400 Avg scores:24.097917043787156\n",
      "Episode 92/400 Avg scores:24.246809240650265\n",
      "Episode 93/400 Avg scores:24.39149945480749\n",
      "Episode 94/400 Avg scores:24.525520728407628\n",
      "Episode 95/400 Avg scores:24.654404712088997\n",
      "Episode 96/400 Avg scores:24.787712987618093\n",
      "Episode 97/400 Avg scores:24.924947896492235\n",
      "Episode 98/400 Avg scores:25.05391270530752\n",
      "Episode 99/400 Avg scores:25.17569135647135\n",
      "Episode 100/400 Avg scores:25.30049943448976\n",
      "Episode 101/400 Avg scores:25.668819426257166\n",
      "Episode 102/400 Avg scores:26.022409418353817\n",
      "Episode 103/400 Avg scores:26.362434410753668\n",
      "Episode 104/400 Avg scores:26.705069403095177\n",
      "Episode 105/400 Avg scores:27.03526939571462\n",
      "Episode 106/400 Avg scores:27.370049388231706\n",
      "Episode 107/400 Avg scores:27.688399381116028\n",
      "Episode 108/400 Avg scores:27.969824374825688\n",
      "Episode 109/400 Avg scores:28.268429368151352\n",
      "Episode 110/400 Avg scores:28.580364361179065\n",
      "Episode 111/400 Avg scores:28.8888843542831\n",
      "Episode 112/400 Avg scores:29.179904347778297\n",
      "Episode 113/400 Avg scores:29.483654340988952\n",
      "Episode 114/400 Avg scores:29.771514334554777\n",
      "Episode 115/400 Avg scores:30.06314432803634\n",
      "solved in 115 episodes\n",
      "Saving Model...\n"
     ]
    }
   ],
   "source": [
    "#Train\n",
    "scores=trainAgent(agent,env,num_episodes,brain_name,max_t)"
   ]
  },
  {
   "cell_type": "code",
   "execution_count": 12,
   "metadata": {},
   "outputs": [
    {
     "name": "stdout",
     "output_type": "stream",
     "text": [
      "115\n"
     ]
    }
   ],
   "source": [
    "len(scores)\n",
    "scores_copy=scores\n",
    "print (len(scores))"
   ]
  },
  {
   "cell_type": "code",
   "execution_count": 13,
   "metadata": {},
   "outputs": [
    {
     "data": {
      "image/png": "[encoded data removed]",
      "text/plain": [
       "<matplotlib.figure.Figure at 0x7fa97eac8978>"
      ]
     },
     "metadata": {
      "needs_background": "light"
     },
     "output_type": "display_data"
    }
   ],
   "source": [
    "#graph of score over episodes\n",
    "import pandas as pd\n",
    "import matplotlib.pyplot as plt\n",
    "%matplotlib inline\n",
    "\n",
    "target_score=30\n",
    "rolling_mean = pd.Series(scores_copy).rolling(window=10).mean()\n",
    "\n",
    "plt.plot(range(len(scores_copy)),scores_copy,label=\"avg scores\")\n",
    "plt.plot(rolling_mean,label=\"rolling mean\")\n",
    "plt.plot(range(len(scores_copy)),(len(scores_copy)*[target_score]), linestyle='--',label=\"target\", color='r')\n",
    "plt.ylabel('Score')\n",
    "plt.xlabel('Episode #')\n",
    "plt.legend()\n",
    "plt.grid(\"on\")\n",
    "plt.show()"
   ]
  },
  {
   "cell_type": "code",
   "execution_count": 14,
   "metadata": {},
   "outputs": [
    {
     "name": "stdout",
     "output_type": "stream",
     "text": [
      "Total score (averaged over agents) this episode: 37.42049916358665\n"
     ]
    }
   ],
   "source": [
    "agent.actor_local.load_state_dict(torch.load('checkpoint_actor.pth'))\n",
    "agent.critic_local.load_state_dict(torch.load('checkpoint_critic.pth'))\n",
    "\n",
    "env_info = env.reset(train_mode=True)[brain_name]      # reset the environment    \n",
    "states = env_info.vector_observations                  # get the current state (for each agent)\n",
    "scores = np.zeros(num_agents)                          # initialize the score (for each agent)\n",
    "while True:\n",
    "    actions=agent.get_action(states)\n",
    "    env_info = env.step(actions)[brain_name]           # send all actions to tne environment\n",
    "    next_states = env_info.vector_observations         # get next state (for each agent)\n",
    "    rewards = env_info.rewards                         # get reward (for each agent)\n",
    "    dones = env_info.local_done                        # see if episode finished\n",
    "    scores += env_info.rewards                         # update the score (for each agent)\n",
    "    states = next_states                               # roll over states to next time step\n",
    "    if np.any(dones):                                  # exit loop if episode finished\n",
    "        break\n",
    "print('Total score (averaged over agents) this episode: {}'.format(np.mean(scores)))"
   ]
  },
  {
   "cell_type": "code",
   "execution_count": 15,
   "metadata": {},
   "outputs": [],
   "source": [
    "env.close()"
   ]
  },
  {
   "cell_type": "code",
   "execution_count": null,
   "metadata": {},
   "outputs": [],
   "source": []
  }
 ],
 "metadata": {
  "kernelspec": {
   "display_name": "Python 3",
   "language": "python",
   "name": "python3"
  },
  "language_info": {
   "codemirror_mode": {
    "name": "ipython",
    "version": 3
   },
   "file_extension": ".py",
   "mimetype": "text/x-python",
   "name": "python",
   "nbconvert_exporter": "python",
   "pygments_lexer": "ipython3",
   "version": "3.6.3"
  }
 },
 "nbformat": 4,
 "nbformat_minor": 2
}
